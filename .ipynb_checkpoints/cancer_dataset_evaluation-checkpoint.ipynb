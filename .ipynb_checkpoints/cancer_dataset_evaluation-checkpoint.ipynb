{
 "cells": [
  {
   "cell_type": "markdown",
   "metadata": {},
   "source": [
    "# Decision Tree Classification\n",
    "Derek Gloudemans\n",
    "\n",
    "Machine Learning Assignment 1"
   ]
  },
  {
   "cell_type": "code",
   "execution_count": 1,
   "metadata": {},
   "outputs": [],
   "source": [
    "#--------------------------Import Packages------------------------------------#\n",
    "import numpy as np\n",
    "import copy\n",
    "import csv\n",
    "from DecisionTree import TreeNode\n"
   ]
  },
  {
   "cell_type": "code",
   "execution_count": 4,
   "metadata": {},
   "outputs": [],
   "source": [
    "#-----------------------Function Definitions----------------------------------#\n",
    "\n",
    "def load_cancer_CSV(file_name):\n",
    "    \"\"\"\n",
    "    loads data from CSV (where first column in class label) into an X and Y \n",
    "    np array\n",
    "    file_name - string - name of data csv.\n",
    "    returns:\n",
    "        X - m x n array of features for data examples\n",
    "        Y - m x 1 array of labels for data examples\n",
    "    \"\"\"\n",
    "    data = np.loadtxt(open(file_name, \"rb\"), delimiter=\",\", skiprows=1)\n",
    "    Y = data[:,0].astype(int)\n",
    "    X = data[:,1:]\n",
    "    return X,Y\n",
    "\n",
    "def classify_dataset(X_train,Y_train,X_test,Y_test,impurity = 'gini',dataset_id = 1):\n",
    "    # fit a tree to each dataset\n",
    "    tree = TreeNode(X_train,Y_train,criterion = 'gini')\n",
    "    tree.fit(depth_limit = 25)\n",
    "    print(\"Decision tree classifier fit to data.\")\n",
    "\n",
    "    # score tree\n",
    "    _,train_result = tree.predict_score(X_train,Y_train)\n",
    "    _,test_result = tree.predict_score(X_test,Y_test)\n",
    "    print(\"Results obtained for test dataset.\")\n",
    "\n",
    "    # get node counts\n",
    "    non_leaf_count = tree.get_node_count(include_leaves = False)\n",
    "    leaf_count = tree.get_node_count(include_leaves = True)\n",
    "\n",
    "    # plot tree in new window (openCV required)\n",
    "    try:\n",
    "        tree.plot(legend = [\"Benign\", \"Malignant\"])\n",
    "    except NameError:\n",
    "        print(\"OpenCV package required.\")\n",
    "\n",
    "    # print results in table\n",
    "    print(\"------------------Results for Dataset {} -----------------\".format(dataset_id))\n",
    "    print(\"|  Metric       |  Training Dataset  |  Testing Dataset  |\")\n",
    "    print(\"|  Total Nodes  |                   {}                   |\".format(leaf_count+non_leaf_count))\n",
    "    print(\"|  Leaf Nodes   |                   {}                   |\".format(non_leaf_count))\n",
    "    print(\"|  Accuracy     |  {:.03f}             |  {:.03f}            |\".format(train_result['acc'],test_result['acc']))\n",
    "    print(\"---------------------------------------------------------\")"
   ]
  },
  {
   "cell_type": "markdown",
   "metadata": {},
   "source": [
    "## Dataset 1"
   ]
  },
  {
   "cell_type": "code",
   "execution_count": 5,
   "metadata": {},
   "outputs": [
    {
     "name": "stdout",
     "output_type": "stream",
     "text": [
      "Dataset 1 loaded.\n",
      "Decision tree classifier fit to data.\n",
      "Results obtained for test dataset.\n",
      "------------------Results for Dataset 1 -----------------\n",
      "|  Metric       |  Training Datset  |  Testing Dataset  |\n",
      "|  Total Nodes  |                  61                   |\n",
      "|  Leaf Nodes   |                  20                   |\n",
      "|  Accuracy     |  0.992            |  0.895            |\n",
      "---------------------------------------------------------\n"
     ]
    }
   ],
   "source": [
    "# load dataset\n",
    "X_train,Y_train = load_cancer_CSV(\"cancer_datasets_v2/training_1.csv\")\n",
    "X_val,Y_val = load_cancer_CSV(\"cancer_datasets_v2/validation_1.csv\")\n",
    "X_test,Y_test = load_cancer_CSV(\"cancer_datasets_v2/testing_1.csv\")\n",
    "print(\"Dataset 1 loaded.\")\n",
    "\n",
    "classify_dataset(X_train, Y_train,X_test,Y_test,impurity = 'gini', dataset_id = 1)"
   ]
  },
  {
   "cell_type": "code",
   "execution_count": null,
   "metadata": {},
   "outputs": [],
   "source": []
  }
 ],
 "metadata": {
  "kernelspec": {
   "display_name": "Python 3",
   "language": "python",
   "name": "python3"
  },
  "language_info": {
   "codemirror_mode": {
    "name": "ipython",
    "version": 3
   },
   "file_extension": ".py",
   "mimetype": "text/x-python",
   "name": "python",
   "nbconvert_exporter": "python",
   "pygments_lexer": "ipython3",
   "version": "3.6.5"
  }
 },
 "nbformat": 4,
 "nbformat_minor": 2
}
